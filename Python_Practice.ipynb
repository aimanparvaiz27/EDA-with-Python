{
  "nbformat": 4,
  "nbformat_minor": 0,
  "metadata": {
    "colab": {
      "provenance": []
    },
    "kernelspec": {
      "name": "python3",
      "display_name": "Python 3"
    },
    "language_info": {
      "name": "python"
    }
  },
  "cells": [
    {
      "cell_type": "markdown",
      "source": [
        "**Python Variables**"
      ],
      "metadata": {
        "id": "EFzVq6yd_265"
      }
    },
    {
      "cell_type": "code",
      "execution_count": 43,
      "metadata": {
        "colab": {
          "base_uri": "https://localhost:8080/"
        },
        "id": "Ah_1J03x-yVi",
        "outputId": "f692e0af-b6a2-420c-a374-e6b3383a63dc"
      },
      "outputs": [
        {
          "output_type": "stream",
          "name": "stdout",
          "text": [
            "10\n",
            "<class 'int'>\n"
          ]
        }
      ],
      "source": [
        "x = 10\n",
        "print(x)\n",
        "print(type(x))"
      ]
    },
    {
      "cell_type": "code",
      "source": [
        "y = 'Mint Chocolate chip'\n",
        "y = 'Chocolate'\n",
        "# we can assign one value to only one variable\n",
        "Y = 'Mint Chocolate chip'\n",
        "print(Y)\n",
        "print(y)"
      ],
      "metadata": {
        "colab": {
          "base_uri": "https://localhost:8080/"
        },
        "id": "zNvtKd3MANcV",
        "outputId": "6a7b5207-f50e-49e0-99e8-3892f168af29"
      },
      "execution_count": 44,
      "outputs": [
        {
          "output_type": "stream",
          "name": "stdout",
          "text": [
            "Mint Chocolate chip\n",
            "Chocolate\n"
          ]
        }
      ]
    },
    {
      "cell_type": "code",
      "source": [
        "# Le's check the type of variables\n",
        "type(y)"
      ],
      "metadata": {
        "colab": {
          "base_uri": "https://localhost:8080/"
        },
        "id": "iNCSxW4QAaWZ",
        "outputId": "3f6d04f5-927b-49ba-d49c-8990d62a3190"
      },
      "execution_count": 45,
      "outputs": [
        {
          "output_type": "execute_result",
          "data": {
            "text/plain": [
              "str"
            ]
          },
          "metadata": {},
          "execution_count": 45
        }
      ]
    },
    {
      "cell_type": "code",
      "source": [
        "# let's assign multiple value to multiple variables\n",
        "x,y,z = 'Chocolate', 'Vanilla', 'Strawberry'\n",
        "print(x)\n",
        "print(y)\n",
        "print(z)"
      ],
      "metadata": {
        "colab": {
          "base_uri": "https://localhost:8080/"
        },
        "id": "VYrDzaa4BxRK",
        "outputId": "5a8cc303-f8ee-468f-dc54-d7eaae5164e0"
      },
      "execution_count": 46,
      "outputs": [
        {
          "output_type": "stream",
          "name": "stdout",
          "text": [
            "Chocolate\n",
            "Vanilla\n",
            "Strawberry\n"
          ]
        }
      ]
    },
    {
      "cell_type": "code",
      "source": [
        "# let's assign one values to multiple variables\n",
        "x=y=z = 'Chocolate'\n",
        "print(x)\n",
        "print(y)\n",
        "print(z)"
      ],
      "metadata": {
        "colab": {
          "base_uri": "https://localhost:8080/"
        },
        "id": "pmhe7-81CTgc",
        "outputId": "45c2f4e2-c359-4b1f-bcb4-57666d7c6039"
      },
      "execution_count": 30,
      "outputs": [
        {
          "output_type": "stream",
          "name": "stdout",
          "text": [
            "Chocolate\n",
            "Chocolate\n",
            "Chocolate\n"
          ]
        }
      ]
    },
    {
      "cell_type": "code",
      "source": [
        "# let's assign the list to the multiple variables\n",
        "ice_cream = ['chocolate', 'vanilla', 'stawberry']\n",
        "x,y,z = ice_cream\n",
        "print(x)\n",
        "print(y)\n",
        "print(z)"
      ],
      "metadata": {
        "colab": {
          "base_uri": "https://localhost:8080/"
        },
        "id": "SFfNWznFCwf7",
        "outputId": "a7a1628d-a9b0-47bb-f5eb-c9ba5c98dff9"
      },
      "execution_count": 31,
      "outputs": [
        {
          "output_type": "stream",
          "name": "stdout",
          "text": [
            "chocolate\n",
            "vanilla\n",
            "stawberry\n"
          ]
        }
      ]
    },
    {
      "cell_type": "code",
      "source": [
        "# Camel Case\n",
        "testVariableCase = 'Vanilla Swirl'\n",
        "# Pascal case\n",
        "TestVariableCase = 'Vanilla Swirl'\n",
        "# Snake case\n",
        "test_variable_case = 'Vanilla Swirl'\n",
        "print(testVariableCase)\n",
        "print(TestVariableCase)\n",
        "print(test_variable_case)"
      ],
      "metadata": {
        "colab": {
          "base_uri": "https://localhost:8080/"
        },
        "id": "XzqQucOSFjKu",
        "outputId": "0a768ed2-14ff-42fb-ea29-8297f9299d6e"
      },
      "execution_count": 32,
      "outputs": [
        {
          "output_type": "stream",
          "name": "stdout",
          "text": [
            "Vanilla Swirl\n",
            "Vanilla Swirl\n",
            "Vanilla Swirl\n"
          ]
        }
      ]
    },
    {
      "cell_type": "code",
      "source": [
        "testVar = 'Vanilla Swirl'\n",
        "test_var = 'Vanilla Swirl'\n",
        "_test_var = 'Vanilla Swirl'\n",
        "TestVar = 'Vanilla Swirl'\n",
        "testVar2 = 'Vanilla Swirl'\n",
        "print(testVar)\n",
        "print(test_var)\n",
        "print(_test_var)\n",
        "print(TestVar)\n",
        "print(testVar2)"
      ],
      "metadata": {
        "colab": {
          "base_uri": "https://localhost:8080/"
        },
        "id": "CTfqBDWFDB_U",
        "outputId": "7e5609f2-2fa4-402d-f4a6-2e37000263fd"
      },
      "execution_count": 33,
      "outputs": [
        {
          "output_type": "stream",
          "name": "stdout",
          "text": [
            "Vanilla Swirl\n",
            "Vanilla Swirl\n",
            "Vanilla Swirl\n",
            "Vanilla Swirl\n",
            "Vanilla Swirl\n"
          ]
        }
      ]
    },
    {
      "cell_type": "code",
      "source": [
        "x= 'Ice Cream is my favorite' +  2\n",
        "print(x)"
      ],
      "metadata": {
        "colab": {
          "base_uri": "https://localhost:8080/",
          "height": 166
        },
        "id": "ZB4ZgwZ-IjA2",
        "outputId": "37c067ad-0eb8-4d1b-9737-260203bd1c19"
      },
      "execution_count": 47,
      "outputs": [
        {
          "output_type": "error",
          "ename": "TypeError",
          "evalue": "can only concatenate str (not \"int\") to str",
          "traceback": [
            "\u001b[0;31m---------------------------------------------------------------------------\u001b[0m",
            "\u001b[0;31mTypeError\u001b[0m                                 Traceback (most recent call last)",
            "\u001b[0;32m<ipython-input-47-282b55d8eae8>\u001b[0m in \u001b[0;36m<cell line: 1>\u001b[0;34m()\u001b[0m\n\u001b[0;32m----> 1\u001b[0;31m \u001b[0mx\u001b[0m\u001b[0;34m=\u001b[0m \u001b[0;34m'Ice Cream is my favorite'\u001b[0m \u001b[0;34m+\u001b[0m  \u001b[0;36m2\u001b[0m\u001b[0;34m\u001b[0m\u001b[0;34m\u001b[0m\u001b[0m\n\u001b[0m\u001b[1;32m      2\u001b[0m \u001b[0mprint\u001b[0m\u001b[0;34m(\u001b[0m\u001b[0mx\u001b[0m\u001b[0;34m)\u001b[0m\u001b[0;34m\u001b[0m\u001b[0;34m\u001b[0m\u001b[0m\n",
            "\u001b[0;31mTypeError\u001b[0m: can only concatenate str (not \"int\") to str"
          ]
        }
      ]
    },
    {
      "cell_type": "code",
      "source": [
        "y = 3+2\n",
        "print(y)"
      ],
      "metadata": {
        "colab": {
          "base_uri": "https://localhost:8080/"
        },
        "id": "EOOQODO7IyAI",
        "outputId": "df785c55-abbf-404a-a08b-307dcdd9eb5c"
      },
      "execution_count": 48,
      "outputs": [
        {
          "output_type": "stream",
          "name": "stdout",
          "text": [
            "5\n"
          ]
        }
      ]
    },
    {
      "cell_type": "code",
      "source": [
        "x = 'Ice Cream'\n",
        "y = 'is'\n",
        "z = 'my favorite'\n",
        "print(x,y,z)"
      ],
      "metadata": {
        "colab": {
          "base_uri": "https://localhost:8080/"
        },
        "id": "mO9RYQLiJUSK",
        "outputId": "102adeb8-6823-4b8a-ecf5-b9826a1a67fa"
      },
      "execution_count": 49,
      "outputs": [
        {
          "output_type": "stream",
          "name": "stdout",
          "text": [
            "Ice Cream is my favorite\n"
          ]
        }
      ]
    },
    {
      "cell_type": "code",
      "source": [
        "x = ' Ice Cream'\n",
        "y = ' is'\n",
        "z = ' my favorite'\n",
        "print(x+y+z)"
      ],
      "metadata": {
        "colab": {
          "base_uri": "https://localhost:8080/"
        },
        "id": "xQ2KcBRkJjrD",
        "outputId": "209d5460-f3d6-40b0-cfbc-8f43e7541b30"
      },
      "execution_count": 50,
      "outputs": [
        {
          "output_type": "stream",
          "name": "stdout",
          "text": [
            " Ice Cream is my favorite\n"
          ]
        }
      ]
    },
    {
      "cell_type": "code",
      "source": [
        " # let's concatenate the variables\n",
        "x = 1\n",
        "y = 2\n",
        "z = 3\n",
        "print(x,y,z)\n",
        "# let's concatenate the variables\n",
        "x = 1\n",
        "y = 2\n",
        "z = 3\n",
        "print(x+y+z)"
      ],
      "metadata": {
        "colab": {
          "base_uri": "https://localhost:8080/"
        },
        "id": "tvhca_enKC0f",
        "outputId": "502c81f2-3f72-4c97-b63e-cab359e86e91"
      },
      "execution_count": 51,
      "outputs": [
        {
          "output_type": "stream",
          "name": "stdout",
          "text": [
            "1 2 3\n",
            "6\n"
          ]
        }
      ]
    },
    {
      "cell_type": "markdown",
      "source": [
        "**Python Data Types**"
      ],
      "metadata": {
        "id": "quqlBtnaKplc"
      }
    },
    {
      "cell_type": "code",
      "source": [
        "type(-10+100)"
      ],
      "metadata": {
        "colab": {
          "base_uri": "https://localhost:8080/"
        },
        "id": "PxptNRquKtXU",
        "outputId": "80545072-ab5a-42fd-9022-75d2586fba51"
      },
      "execution_count": 52,
      "outputs": [
        {
          "output_type": "execute_result",
          "data": {
            "text/plain": [
              "int"
            ]
          },
          "metadata": {},
          "execution_count": 52
        }
      ]
    },
    {
      "cell_type": "code",
      "source": [
        "type(10+10.1)"
      ],
      "metadata": {
        "colab": {
          "base_uri": "https://localhost:8080/"
        },
        "id": "rT35FvqXSDpj",
        "outputId": "5b4583fa-6874-4c82-e6af-7e914842e876"
      },
      "execution_count": 53,
      "outputs": [
        {
          "output_type": "execute_result",
          "data": {
            "text/plain": [
              "float"
            ]
          },
          "metadata": {},
          "execution_count": 53
        }
      ]
    },
    {
      "cell_type": "code",
      "source": [
        "type(10+2j)"
      ],
      "metadata": {
        "colab": {
          "base_uri": "https://localhost:8080/"
        },
        "id": "hzLveocXSHbX",
        "outputId": "b38ff2f0-5e4d-4f16-b275-82156044dfac"
      },
      "execution_count": 54,
      "outputs": [
        {
          "output_type": "execute_result",
          "data": {
            "text/plain": [
              "complex"
            ]
          },
          "metadata": {},
          "execution_count": 54
        }
      ]
    },
    {
      "cell_type": "code",
      "source": [
        "type(1>5)"
      ],
      "metadata": {
        "colab": {
          "base_uri": "https://localhost:8080/"
        },
        "id": "BiqYVVy0Sams",
        "outputId": "74ff3418-1297-4804-dca7-a768c7b6d79c"
      },
      "execution_count": 55,
      "outputs": [
        {
          "output_type": "execute_result",
          "data": {
            "text/plain": [
              "bool"
            ]
          },
          "metadata": {},
          "execution_count": 55
        }
      ]
    },
    {
      "cell_type": "code",
      "source": [
        "type('Ice Cream')"
      ],
      "metadata": {
        "colab": {
          "base_uri": "https://localhost:8080/"
        },
        "id": "b0UDlVXYSd6H",
        "outputId": "ab830263-9f7a-436d-e59c-cc2349e944c0"
      },
      "execution_count": 56,
      "outputs": [
        {
          "output_type": "execute_result",
          "data": {
            "text/plain": [
              "str"
            ]
          },
          "metadata": {},
          "execution_count": 56
        }
      ]
    },
    {
      "cell_type": "code",
      "source": [
        "type(['Vanilla', 'Strawberry'])"
      ],
      "metadata": {
        "colab": {
          "base_uri": "https://localhost:8080/"
        },
        "id": "hc_lMvzDSjCe",
        "outputId": "8495afec-c7b1-4e8d-abfa-fd8ff78a7bfb"
      },
      "execution_count": 57,
      "outputs": [
        {
          "output_type": "execute_result",
          "data": {
            "text/plain": [
              "list"
            ]
          },
          "metadata": {},
          "execution_count": 57
        }
      ]
    },
    {
      "cell_type": "code",
      "source": [
        "# Strings\n",
        "multiline = \"\"\" A dummy sentence is a placeholder\n",
        "with no real meaning \"\"\"\n",
        "print(multiline)"
      ],
      "metadata": {
        "colab": {
          "base_uri": "https://localhost:8080/"
        },
        "id": "WYrMV-i8St4X",
        "outputId": "66d66fa7-10a8-482c-e1cf-b9138e0997e7"
      },
      "execution_count": 58,
      "outputs": [
        {
          "output_type": "stream",
          "name": "stdout",
          "text": [
            " A dummy sentence is a placeholder\n",
            "with no real meaning \n"
          ]
        }
      ]
    },
    {
      "cell_type": "code",
      "source": [
        "'single quote'"
      ],
      "metadata": {
        "colab": {
          "base_uri": "https://localhost:8080/",
          "height": 36
        },
        "id": "R-V2yJx5TwCl",
        "outputId": "aa4de541-bec0-4712-afb1-06e2eb4bccff"
      },
      "execution_count": 59,
      "outputs": [
        {
          "output_type": "execute_result",
          "data": {
            "text/plain": [
              "'single quote'"
            ],
            "application/vnd.google.colaboratory.intrinsic+json": {
              "type": "string"
            }
          },
          "metadata": {},
          "execution_count": 59
        }
      ]
    },
    {
      "cell_type": "code",
      "source": [
        "\"Double Quote\""
      ],
      "metadata": {
        "colab": {
          "base_uri": "https://localhost:8080/",
          "height": 36
        },
        "id": "Ovvo_v0CT08O",
        "outputId": "93c42359-c2fd-4680-92b1-86bb500ca3d4"
      },
      "execution_count": 60,
      "outputs": [
        {
          "output_type": "execute_result",
          "data": {
            "text/plain": [
              "'Double Quote'"
            ],
            "application/vnd.google.colaboratory.intrinsic+json": {
              "type": "string"
            }
          },
          "metadata": {},
          "execution_count": 60
        }
      ]
    },
    {
      "cell_type": "code",
      "source": [
        "\"I've always wanted to eat a gallon of ice cream\""
      ],
      "metadata": {
        "colab": {
          "base_uri": "https://localhost:8080/",
          "height": 36
        },
        "id": "U3tYbzk1UKms",
        "outputId": "46180493-fb62-4e8a-ecb0-bfd37117167c"
      },
      "execution_count": 61,
      "outputs": [
        {
          "output_type": "execute_result",
          "data": {
            "text/plain": [
              "\"I've always wanted to eat a gallon of ice cream\""
            ],
            "application/vnd.google.colaboratory.intrinsic+json": {
              "type": "string"
            }
          },
          "metadata": {},
          "execution_count": 61
        }
      ]
    },
    {
      "cell_type": "code",
      "source": [
        "type(multiline)"
      ],
      "metadata": {
        "colab": {
          "base_uri": "https://localhost:8080/"
        },
        "id": "2CEx6kmNVUn1",
        "outputId": "1ba46e4b-837c-4d6e-ecac-2d3bdf65a80b"
      },
      "execution_count": 62,
      "outputs": [
        {
          "output_type": "execute_result",
          "data": {
            "text/plain": [
              "str"
            ]
          },
          "metadata": {},
          "execution_count": 62
        }
      ]
    },
    {
      "cell_type": "code",
      "source": [
        "a = 'Hello world'\n",
        "print(a[:5])"
      ],
      "metadata": {
        "colab": {
          "base_uri": "https://localhost:8080/"
        },
        "id": "EJHw6eT9VXfr",
        "outputId": "2b9d4211-955c-4aa3-c4fd-49cf7f37d1c0"
      },
      "execution_count": 63,
      "outputs": [
        {
          "output_type": "stream",
          "name": "stdout",
          "text": [
            "Hello\n"
          ]
        }
      ]
    },
    {
      "cell_type": "code",
      "source": [
        "a = 'Hello World'\n",
        "print(a[2:5])"
      ],
      "metadata": {
        "colab": {
          "base_uri": "https://localhost:8080/"
        },
        "id": "Q2phOt5KVsVY",
        "outputId": "b1b8a213-abd2-4381-8d7f-71d929c1a4dd"
      },
      "execution_count": 64,
      "outputs": [
        {
          "output_type": "stream",
          "name": "stdout",
          "text": [
            "llo\n"
          ]
        }
      ]
    },
    {
      "cell_type": "code",
      "source": [
        "# let's print the hello world multiple times\n",
        "a = \"hello world\"\n",
        "print(a*3)"
      ],
      "metadata": {
        "colab": {
          "base_uri": "https://localhost:8080/"
        },
        "id": "vekkfFYeWUQk",
        "outputId": "77ce944d-9c97-461c-ff7d-bfd47a3d10d0"
      },
      "execution_count": 65,
      "outputs": [
        {
          "output_type": "stream",
          "name": "stdout",
          "text": [
            "hello worldhello worldhello world\n"
          ]
        }
      ]
    },
    {
      "cell_type": "code",
      "source": [
        "# Let's print the hello world 2 times\n",
        "a = \"hello world\\n\"\n",
        "print(a+a)"
      ],
      "metadata": {
        "colab": {
          "base_uri": "https://localhost:8080/"
        },
        "id": "QWca30tLWkHv",
        "outputId": "cac880e9-5216-42e3-84fc-4c1b60de4ea6"
      },
      "execution_count": 66,
      "outputs": [
        {
          "output_type": "stream",
          "name": "stdout",
          "text": [
            "hello world\n",
            "hello world\n",
            "\n"
          ]
        }
      ]
    },
    {
      "cell_type": "code",
      "source": [
        "# let's store several data types and lists in one list\n",
        "ice_cream = ['chocolate', 3, ['sprinkles', 'chocolate']]\n",
        "print(ice_cream)"
      ],
      "metadata": {
        "colab": {
          "base_uri": "https://localhost:8080/"
        },
        "id": "VKbGGA1IXLmK",
        "outputId": "b1769221-d151-431a-b849-042efb666ecb"
      },
      "execution_count": 67,
      "outputs": [
        {
          "output_type": "stream",
          "name": "stdout",
          "text": [
            "['chocolate', 3, ['sprinkles', 'chocolate']]\n"
          ]
        }
      ]
    },
    {
      "cell_type": "code",
      "source": [
        "ice_cream.append('salted caramel')\n",
        "print(ice_cream)"
      ],
      "metadata": {
        "colab": {
          "base_uri": "https://localhost:8080/"
        },
        "id": "w7YoHUYKZNY_",
        "outputId": "9689784a-71c8-477b-af0e-09eb495cc44e"
      },
      "execution_count": 68,
      "outputs": [
        {
          "output_type": "stream",
          "name": "stdout",
          "text": [
            "['chocolate', 3, ['sprinkles', 'chocolate'], 'salted caramel']\n"
          ]
        }
      ]
    },
    {
      "cell_type": "code",
      "source": [
        "ice_cream[0] = 'strawberry'\n",
        "print(ice_cream)"
      ],
      "metadata": {
        "colab": {
          "base_uri": "https://localhost:8080/"
        },
        "id": "RRBl-sLeZo5W",
        "outputId": "ed9c7289-9c8f-4425-dd96-28894d3bb28a"
      },
      "execution_count": 69,
      "outputs": [
        {
          "output_type": "stream",
          "name": "stdout",
          "text": [
            "['strawberry', 3, ['sprinkles', 'chocolate'], 'salted caramel']\n"
          ]
        }
      ]
    },
    {
      "cell_type": "code",
      "source": [
        "# nested list\n",
        "ice_cream = ['chocolate', 3, ['sprinkles', 'chocolate'], 'salted caramel', 0.10]\n",
        "print(ice_cream[2][0])\n",
        "print(ice_cream[2][1])\n",
        "print(ice_cream[3])"
      ],
      "metadata": {
        "colab": {
          "base_uri": "https://localhost:8080/"
        },
        "id": "ia97ZW9RaX5A",
        "outputId": "fe10fc67-6984-45ea-8c6f-6dae4f765398"
      },
      "execution_count": 70,
      "outputs": [
        {
          "output_type": "stream",
          "name": "stdout",
          "text": [
            "sprinkles\n",
            "chocolate\n",
            "salted caramel\n"
          ]
        }
      ]
    },
    {
      "cell_type": "code",
      "source": [
        "# let's add remove element from list\n",
        "ice_cream.remove('salted caramel')\n",
        "print(ice_cream)"
      ],
      "metadata": {
        "id": "-o-gPbmhbd4s"
      },
      "execution_count": null,
      "outputs": []
    },
    {
      "cell_type": "code",
      "source": [
        "# Tuple is a built-in data structure, Tuples cannot be modified, added, or deleted once they’ve been created.\n",
        "ice_cream = ('chocolate', 3, ['sprinkles', 'salted caramel', 0.10])\n",
        "print(ice_cream)"
      ],
      "metadata": {
        "id": "RrP7OLPPcJVx"
      },
      "execution_count": null,
      "outputs": []
    },
    {
      "cell_type": "code",
      "source": [
        "# Remove the element from tuple\n",
        "a = ice_cream.remove('salted caramel')\n",
        "print(a)\n",
        "a = ice_cream.append('salted caramel')\n",
        "print(a)"
      ],
      "metadata": {
        "id": "SXlL7qC40Qvp"
      },
      "execution_count": null,
      "outputs": []
    },
    {
      "cell_type": "code",
      "source": [
        "# let's learn about 'set' data structure\n",
        "daily_prints = {'Mon', 'Tue', 'Wed', 'Thu', 'Fri', 'Sat', 'Sun'}\n",
        "print(daily_prints)\n",
        "print(type(daily_prints))"
      ],
      "metadata": {
        "id": "Z-BAWh6s1oos"
      },
      "execution_count": null,
      "outputs": []
    },
    {
      "cell_type": "code",
      "source": [
        "# Let's learn about dictionries\n",
        "# The dictionary is not allow to the values have same elements, it's in ordered and changeable\n",
        "thisdict = { 'brand': 'Ford', 'model': 'Mustang', 'year': 1964 }\n",
        "print(thisdict)\n",
        "print(type(thisdict))\n",
        "print(len(thisdict))\n"
      ],
      "metadata": {
        "id": "j1l-Cztz34kd"
      },
      "execution_count": null,
      "outputs": []
    },
    {
      "cell_type": "code",
      "source": [
        "# Let's access the dictionary key value\n",
        "print(thisdict['brand'])\n",
        "# Let's change the dictionary key value\n",
        "thisdict['year'] = 2023\n",
        "print(thisdict)\n",
        "thisdict.update({'brand': 'abc'})\n",
        "print(thisdict)\n",
        "#Let's check the dictionary keys and values\n",
        "print(thisdict.keys())\n",
        "print(thisdict.values())"
      ],
      "metadata": {
        "id": "yTh5-SLPF_YT"
      },
      "execution_count": null,
      "outputs": []
    },
    {
      "cell_type": "code",
      "source": [
        "# let's add the color item by using the update() method\n",
        "thisdict.update({'color': 'red'})\n",
        "print(thisdict)\n"
      ],
      "metadata": {
        "id": "WLRw9COCH-I4"
      },
      "execution_count": null,
      "outputs": []
    },
    {
      "cell_type": "code",
      "source": [
        "# Let's remove the dictionary items by using pop, popitem, del and clear methods\n",
        "\n",
        "print(thisdict)"
      ],
      "metadata": {
        "id": "2CnY517hIoli"
      },
      "execution_count": null,
      "outputs": []
    },
    {
      "cell_type": "code",
      "source": [
        "#Print all key names in the dictionary, one by one:\n",
        "thisdict = {'brand': 'abc', 'size': 10, 'color': 'blue'}\n",
        "for x in thisdict:\n",
        "  print(x)"
      ],
      "metadata": {
        "id": "Ah2q7MkyKtdG"
      },
      "execution_count": null,
      "outputs": []
    },
    {
      "cell_type": "code",
      "source": [
        "# Print all values in the dictionary, one by one:\n",
        "for x in thisdict:\n",
        "  print(thisdict[x])"
      ],
      "metadata": {
        "id": "ZSkBYVTGLM8J"
      },
      "execution_count": null,
      "outputs": []
    },
    {
      "cell_type": "code",
      "source": [
        "for x in thisdict.keys():\n",
        " print(x)"
      ],
      "metadata": {
        "id": "MXNhFtM-LgoD"
      },
      "execution_count": null,
      "outputs": []
    },
    {
      "cell_type": "code",
      "source": [
        "for x in thisdict.values():\n",
        "  print(x)"
      ],
      "metadata": {
        "id": "1Et1m3fULrgn"
      },
      "execution_count": null,
      "outputs": []
    },
    {
      "cell_type": "code",
      "source": [
        "for x, y in thisdict.items():\n",
        "  print(x, y)"
      ],
      "metadata": {
        "id": "WURmFlvxL08c"
      },
      "execution_count": null,
      "outputs": []
    },
    {
      "cell_type": "code",
      "source": [
        "# Set is an unordered and unindex, it has only values and it's define by curly brackets and set() method\n",
        "s = {'a', 'b', 'c', 'd'}\n",
        "print(s)\n",
        "print(type(s))\n",
        "print(len(s))"
      ],
      "metadata": {
        "id": "Vn-pSotvTKg_"
      },
      "execution_count": null,
      "outputs": []
    },
    {
      "cell_type": "code",
      "source": [
        "# Let's convert the list and tuple into set\n",
        "l = ['a', 'b', 'c', 'd']\n",
        "s = set(l)\n",
        "print(s)\n",
        "print(type(s))\n",
        "\n",
        "t = ('a', 'b', 'c', 'd')\n",
        "s = set(t)\n",
        "print(type(s))"
      ],
      "metadata": {
        "id": "JpQPFTzCUfLe"
      },
      "execution_count": null,
      "outputs": []
    },
    {
      "cell_type": "code",
      "source": [
        "# let's add and remove the sets values and set alsogive the answer randomly\n",
        "s = {'a', 'b', 'c', 'd'}\n",
        "s.add('e')\n",
        "s.add('f')\n",
        "print(s)\n",
        "\n",
        "s.remove('f')\n",
        "print(s)"
      ],
      "metadata": {
        "id": "dAueEsbaUBIx"
      },
      "execution_count": null,
      "outputs": []
    },
    {
      "cell_type": "code",
      "source": [
        "# Let's use pop function\n",
        "print(s.pop())"
      ],
      "metadata": {
        "id": "r7iO6ruyWQow"
      },
      "execution_count": null,
      "outputs": []
    },
    {
      "cell_type": "code",
      "source": [
        "# Let's use remove function, this function will remove the given value\n",
        "s.clear()\n",
        "print(s)"
      ],
      "metadata": {
        "id": "IED6us8OVTO_"
      },
      "execution_count": null,
      "outputs": []
    },
    {
      "cell_type": "code",
      "source": [
        "# Let's join the multiple sets\n",
        "s1 = {'a', 'b', 'c', 'd'}\n",
        "s2 = {'d', 'e', 'f'}\n",
        "join_sets = s1.union(s2)\n",
        "print(join_sets)"
      ],
      "metadata": {
        "id": "phg8_FcEZWUQ"
      },
      "execution_count": null,
      "outputs": []
    },
    {
      "cell_type": "code",
      "source": [
        "# let's join the multiple sets by using this '|' symbol\n",
        "join_sets = s1 | s2\n",
        "print(join_sets)"
      ],
      "metadata": {
        "id": "cqAfh397ZzgK"
      },
      "execution_count": null,
      "outputs": []
    },
    {
      "cell_type": "code",
      "source": [
        "# let's get the same values from two sets\n",
        "print(s1.intersection(s2))"
      ],
      "metadata": {
        "id": "R-w1b2NCaD2Y"
      },
      "execution_count": null,
      "outputs": []
    },
    {
      "cell_type": "code",
      "source": [
        "# let's get the same values from sets by using this '&' symbol\n",
        "print(s1 & s2)\n",
        "print(s1 - s2)\n",
        "print(s1 ^ s2)"
      ],
      "metadata": {
        "id": "vpf8TipVaZCX"
      },
      "execution_count": null,
      "outputs": []
    },
    {
      "cell_type": "markdown",
      "source": [
        "**Python Operators**\n",
        "1. Arithmetic Operators\n",
        "2. Assignment Operators\n",
        "3. Comparison Operators\n",
        "4. Logical Operators\n",
        "5. Membership Operators"
      ],
      "metadata": {
        "id": "7WECIK8BdCLu"
      }
    },
    {
      "cell_type": "code",
      "source": [
        "# Let's practice the Arithmetic operators\n",
        "10+10\n",
        "10-50\n",
        "20*3\n",
        "30/3\n",
        "30%3\n",
        "40**2\n",
        "20//3"
      ],
      "metadata": {
        "id": "gZ_l1zyjdJmJ"
      },
      "execution_count": null,
      "outputs": []
    },
    {
      "cell_type": "code",
      "source": [
        "# Let's practice the Assingnment operators\n",
        "x = 10\n",
        "x += 5\n",
        "print(x)\n",
        "x -= 5\n",
        "print(x)\n",
        "x *=5\n",
        "print(x)\n",
        "x /=5\n",
        "print(x)\n",
        "x %= 5\n",
        "print(x)\n",
        "x = 10\n",
        "x **= 5\n",
        "print(x)\n",
        "x = 10\n",
        "x //= 5\n",
        "print(x)"
      ],
      "metadata": {
        "id": "RW45S-mRew9q"
      },
      "execution_count": null,
      "outputs": []
    },
    {
      "cell_type": "code",
      "source": [
        "# Let's practice the comparison operators\n",
        "x = 10\n",
        "y = 5\n",
        "print(x==y)\n",
        "print(x!=y)\n",
        "print(x<=y)\n",
        "print(x>=y)\n",
        "print(x>y)\n",
        "print(x<y)"
      ],
      "metadata": {
        "id": "uY9L3n4PjSQs"
      },
      "execution_count": null,
      "outputs": []
    },
    {
      "cell_type": "code",
      "source": [
        "# Let's practice the logical operators\n",
        "x = 10\n",
        "y = 5\n",
        "print(x<y and x>y)\n",
        "print(x<y or x>y)\n",
        "print(not(x<y and x>y))"
      ],
      "metadata": {
        "id": "_MvmEPA1j69o"
      },
      "execution_count": null,
      "outputs": []
    },
    {
      "cell_type": "code",
      "source": [
        "# Let's practice the membership operators\n",
        "x = ['apple', 'orange']\n",
        "print('apple' in x)\n",
        "print('mango' not in x)"
      ],
      "metadata": {
        "id": "QAw8e7QAksst"
      },
      "execution_count": null,
      "outputs": []
    },
    {
      "cell_type": "markdown",
      "source": [
        "**Python Conditions and If statements**"
      ],
      "metadata": {
        "id": "13beec-1sD4x"
      }
    },
    {
      "cell_type": "code",
      "source": [
        "# let's learn about if, elif and else statments\n",
        "a = 100\n",
        "b = 200\n",
        "if b > a:\n",
        "  print('b is greater than a')\n",
        "elif a  == b:\n",
        "  print('a and b are equal')\n",
        "else:\n",
        "  print('a is greater than b')"
      ],
      "metadata": {
        "id": "olgGe2M1sHKU"
      },
      "execution_count": null,
      "outputs": []
    },
    {
      "cell_type": "code",
      "source": [
        "# let's learn about the nested if statement\n",
        "a = 300\n",
        "if a > 200:\n",
        "  print('a is greater than 200')\n",
        "  if a == 300:\n",
        "    print('a is equal to 300')\n",
        "  elif a > 300:\n",
        "    print('a is greater than 300')\n",
        "  else:\n",
        "    print('a is less than 300')"
      ],
      "metadata": {
        "id": "bo1jKxDHt3iS"
      },
      "execution_count": null,
      "outputs": []
    },
    {
      "cell_type": "code",
      "source": [
        "# if statement in one line\n",
        "if a > b: print('a is greater than b')"
      ],
      "metadata": {
        "id": "QzeDFCJrtjzE"
      },
      "execution_count": null,
      "outputs": []
    },
    {
      "cell_type": "code",
      "source": [
        "# if else statement in one line\n",
        "a = 200\n",
        "b = 300\n",
        "print('A') if a > b else print('B')"
      ],
      "metadata": {
        "id": "G05vnU221u-k"
      },
      "execution_count": null,
      "outputs": []
    },
    {
      "cell_type": "code",
      "source": [
        "# use if else statement with logical operators\n",
        "a = 200\n",
        "b = 300\n",
        "if a > b and a < 100:\n",
        "  print('a is greater than b and a is less than 100')\n",
        "elif b > a:\n",
        "  print('b is greater than a')\n",
        "else:\n",
        "  print('a is equal to b')"
      ],
      "metadata": {
        "id": "QHgBEtBJ2i3Q"
      },
      "execution_count": null,
      "outputs": []
    },
    {
      "cell_type": "markdown",
      "source": [
        "**Python Loops**"
      ],
      "metadata": {
        "id": "i8QYRfcrJi36"
      }
    },
    {
      "cell_type": "code",
      "source": [
        "numbers = [1,2,3,4,5]\n",
        "for num in numbers:\n",
        "  print(num)"
      ],
      "metadata": {
        "id": "o7DnwgXlJh7w"
      },
      "execution_count": null,
      "outputs": []
    },
    {
      "cell_type": "code",
      "source": [
        "# Let's learn nested loop\n",
        "ice_cream = ['chocolate', 'Vanilla', 'strawbery']\n",
        "topping = ['oreo', 'fudge']\n",
        "for x in ice_cream:\n",
        "  for y in topping:\n",
        "    print (x, y)"
      ],
      "metadata": {
        "id": "P9-Nwz35J2DF"
      },
      "execution_count": null,
      "outputs": []
    },
    {
      "cell_type": "code",
      "source": [
        "x = ['Apple', 'Orange', 'Mango']\n",
        "for y in x:\n",
        "  if y == 'Orange':\n",
        "    break\n",
        "  print(y)"
      ],
      "metadata": {
        "id": "N5ISa4GUKqQD"
      },
      "execution_count": null,
      "outputs": []
    },
    {
      "cell_type": "code",
      "source": [
        "x = ['Apple', 'Orange', 'Mango']\n",
        "for y in x:\n",
        "  if y == 'Orange':\n",
        "    continue\n",
        "  print(y)"
      ],
      "metadata": {
        "id": "czaMKOfxLNx8"
      },
      "execution_count": null,
      "outputs": []
    },
    {
      "cell_type": "code",
      "source": [
        "# With the while loop we can execute a set of statements as long as a condition is true.\n",
        "i = 1\n",
        "while i < 6:\n",
        "  print(i)\n",
        "  i += 1"
      ],
      "metadata": {
        "id": "43Fh6JrVLnNE"
      },
      "execution_count": null,
      "outputs": []
    },
    {
      "cell_type": "markdown",
      "source": [
        "Python Functions"
      ],
      "metadata": {
        "id": "ciu4cTrKMnSu"
      }
    },
    {
      "cell_type": "code",
      "source": [
        "# let's learn bout python functions\n",
        "def first_func():\n",
        "  print(\"Hello World\")"
      ],
      "metadata": {
        "id": "kZkIoLZxMdeN"
      },
      "execution_count": null,
      "outputs": []
    },
    {
      "cell_type": "code",
      "source": [
        "first_func()"
      ],
      "metadata": {
        "id": "HV_U6utdM_A7"
      },
      "execution_count": null,
      "outputs": []
    },
    {
      "cell_type": "code",
      "source": [
        "def my_func(a):\n",
        "  print(a**3)"
      ],
      "metadata": {
        "id": "1p3rCgFGNF_X"
      },
      "execution_count": null,
      "outputs": []
    },
    {
      "cell_type": "code",
      "source": [
        "\n",
        "my_func(5)"
      ],
      "metadata": {
        "id": "Zcig22L4NMcW"
      },
      "execution_count": null,
      "outputs": []
    },
    {
      "cell_type": "code",
      "source": [
        "# If you do not know how many arguments that will be passed into your function, add a * before the parameter name in the function definition.\n",
        "num = (1,2,3,4,5)\n",
        "def my_func(*args):\n",
        "  print(args[3]+args[2])\n"
      ],
      "metadata": {
        "id": "Iz7oOfQJOmTA"
      },
      "execution_count": 41,
      "outputs": []
    },
    {
      "cell_type": "code",
      "source": [
        "my_func(*num)"
      ],
      "metadata": {
        "colab": {
          "base_uri": "https://localhost:8080/"
        },
        "id": "8I95rHYAPVHB",
        "outputId": "e7e7920e-9f63-49a3-90ec-9a6893ca0705"
      },
      "execution_count": 42,
      "outputs": [
        {
          "output_type": "stream",
          "name": "stdout",
          "text": [
            "7\n"
          ]
        }
      ]
    },
    {
      "cell_type": "markdown",
      "source": [
        "**Python Casting**"
      ],
      "metadata": {
        "id": "ltTTahQdRBHC"
      }
    },
    {
      "cell_type": "code",
      "source": [
        "x = 100\n",
        "print(type(x))\n",
        "y  = str(x)\n",
        "print(type(y))\n",
        "z = float(x)\n",
        "print(type(z))"
      ],
      "metadata": {
        "colab": {
          "base_uri": "https://localhost:8080/"
        },
        "id": "NolWbhCTQ_Kb",
        "outputId": "b83cf1ad-bf75-473d-9654-72326db1f38f"
      },
      "execution_count": 73,
      "outputs": [
        {
          "output_type": "stream",
          "name": "stdout",
          "text": [
            "<class 'int'>\n",
            "<class 'str'>\n",
            "<class 'float'>\n"
          ]
        }
      ]
    },
    {
      "cell_type": "code",
      "source": [
        "x = 10.1\n",
        "print(type(x))\n",
        "y = str(x)\n",
        "print(type(y))\n",
        "z = int(x)\n",
        "print(type(z))"
      ],
      "metadata": {
        "colab": {
          "base_uri": "https://localhost:8080/"
        },
        "id": "Vixff_ZNRjBG",
        "outputId": "12ad9b97-dd7c-484d-a44d-da4054d5913b"
      },
      "execution_count": 75,
      "outputs": [
        {
          "output_type": "stream",
          "name": "stdout",
          "text": [
            "<class 'float'>\n",
            "<class 'str'>\n",
            "<class 'int'>\n"
          ]
        }
      ]
    },
    {
      "cell_type": "code",
      "source": [
        "x = 'Hello'\n",
        "print(type(x))\n",
        "z = float(x)\n",
        "print(type(z))\n",
        "y = int(x)\n",
        "print(y)\n"
      ],
      "metadata": {
        "colab": {
          "base_uri": "https://localhost:8080/",
          "height": 240
        },
        "id": "C57jGW5AR3Lw",
        "outputId": "948673f2-3c5a-4ceb-d37d-b6de1dd077a1"
      },
      "execution_count": 80,
      "outputs": [
        {
          "output_type": "stream",
          "name": "stdout",
          "text": [
            "<class 'str'>\n"
          ]
        },
        {
          "output_type": "error",
          "ename": "ValueError",
          "evalue": "could not convert string to float: 'Hello'",
          "traceback": [
            "\u001b[0;31m---------------------------------------------------------------------------\u001b[0m",
            "\u001b[0;31mValueError\u001b[0m                                Traceback (most recent call last)",
            "\u001b[0;32m<ipython-input-80-4778c8e1a3db>\u001b[0m in \u001b[0;36m<cell line: 3>\u001b[0;34m()\u001b[0m\n\u001b[1;32m      1\u001b[0m \u001b[0mx\u001b[0m \u001b[0;34m=\u001b[0m \u001b[0;34m'Hello'\u001b[0m\u001b[0;34m\u001b[0m\u001b[0;34m\u001b[0m\u001b[0m\n\u001b[1;32m      2\u001b[0m \u001b[0mprint\u001b[0m\u001b[0;34m(\u001b[0m\u001b[0mtype\u001b[0m\u001b[0;34m(\u001b[0m\u001b[0mx\u001b[0m\u001b[0;34m)\u001b[0m\u001b[0;34m)\u001b[0m\u001b[0;34m\u001b[0m\u001b[0;34m\u001b[0m\u001b[0m\n\u001b[0;32m----> 3\u001b[0;31m \u001b[0mz\u001b[0m \u001b[0;34m=\u001b[0m \u001b[0mfloat\u001b[0m\u001b[0;34m(\u001b[0m\u001b[0mx\u001b[0m\u001b[0;34m)\u001b[0m\u001b[0;34m\u001b[0m\u001b[0;34m\u001b[0m\u001b[0m\n\u001b[0m\u001b[1;32m      4\u001b[0m \u001b[0mprint\u001b[0m\u001b[0;34m(\u001b[0m\u001b[0mtype\u001b[0m\u001b[0;34m(\u001b[0m\u001b[0mz\u001b[0m\u001b[0;34m)\u001b[0m\u001b[0;34m)\u001b[0m\u001b[0;34m\u001b[0m\u001b[0;34m\u001b[0m\u001b[0m\n\u001b[1;32m      5\u001b[0m \u001b[0my\u001b[0m \u001b[0;34m=\u001b[0m \u001b[0mint\u001b[0m\u001b[0;34m(\u001b[0m\u001b[0mx\u001b[0m\u001b[0;34m)\u001b[0m\u001b[0;34m\u001b[0m\u001b[0;34m\u001b[0m\u001b[0m\n",
            "\u001b[0;31mValueError\u001b[0m: could not convert string to float: 'Hello'"
          ]
        }
      ]
    }
  ]
}